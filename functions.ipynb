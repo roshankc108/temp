{
 "cells": [
  {
   "cell_type": "markdown",
   "id": "cf809c6c",
   "metadata": {},
   "source": [
    "<h1>day 2 Python Functions"
   ]
  },
  {
   "cell_type": "code",
   "execution_count": 5,
   "id": "0f104465",
   "metadata": {},
   "outputs": [
    {
     "name": "stdout",
     "output_type": "stream",
     "text": [
      "Hello World\n"
     ]
    }
   ],
   "source": [
    "def my_func():\n",
    "    print(\"Hello World\")\n",
    "    \n",
    "my_func()"
   ]
  },
  {
   "cell_type": "markdown",
   "id": "a7a605d8",
   "metadata": {},
   "source": [
    "<h2>Passing Arguments\n",
    "    "
   ]
  },
  {
   "cell_type": "code",
   "execution_count": 11,
   "id": "873daa60",
   "metadata": {},
   "outputs": [
    {
     "name": "stdout",
     "output_type": "stream",
     "text": [
      "Enter a num to check even or odd: 99\n",
      "Num is odd.\n"
     ]
    }
   ],
   "source": [
    "def func1(x):\n",
    "    print(\"Num is even\") if x % 2 == 0 else print(\"Num is odd.\")\n",
    "x=int(input(\"Enter a num to check even or odd: \"))\n",
    "func1(x)"
   ]
  },
  {
   "cell_type": "code",
   "execution_count": 6,
   "id": "a5b7cdb9",
   "metadata": {},
   "outputs": [
    {
     "name": "stdout",
     "output_type": "stream",
     "text": [
      "Enter ur 1st name: Roshan\n",
      "Enter ur last name: KC\n",
      "Roshan   KC\n"
     ]
    }
   ],
   "source": [
    "def my_detail (fname,lname):\n",
    "    print(fname,\"\",lname)\n",
    "fname=input(\"Enter ur 1st name: \")\n",
    "lname=input(\"Enter ur last name: \")\n",
    "\n",
    "my_detail(fname,lname)"
   ]
  },
  {
   "cell_type": "markdown",
   "id": "8d056daa",
   "metadata": {},
   "source": [
    "<h3>Arbitrary Arguments, *args</h3>\n",
    "\n",
    "If you do not know how many arguments that will be passed into your function, add a * before the parameter name in the function definition.\n",
    "\n",
    "This way the function will receive a tuple of arguments, and can access the items accordingly:"
   ]
  },
  {
   "cell_type": "code",
   "execution_count": 12,
   "id": "1bf58f0d",
   "metadata": {},
   "outputs": [
    {
     "name": "stdout",
     "output_type": "stream",
     "text": [
      "The youngest child is Linus\n"
     ]
    }
   ],
   "source": [
    "def my_function(*kids):\n",
    "  print(\"The youngest child is \" + kids[2])\n",
    "\n",
    "my_function(\"Emil\", \"Tobias\", \"Linus\",\"Lorem\",\"Epsom\")"
   ]
  },
  {
   "cell_type": "markdown",
   "id": "9133f9c5",
   "metadata": {},
   "source": [
    "<h3>Keyword Arguments</h3>\n",
    "You can also send arguments with the key = value syntax.\n",
    "\n",
    "This way the order of the arguments does not matter."
   ]
  },
  {
   "cell_type": "code",
   "execution_count": 15,
   "id": "f3222c87",
   "metadata": {},
   "outputs": [
    {
     "name": "stdout",
     "output_type": "stream",
     "text": [
      "The youngest child is Linus\n"
     ]
    }
   ],
   "source": [
    "def my_function(child3, child2, child1):\n",
    "  print(\"The youngest child is \" + child3)\n",
    "\n",
    "my_function(child1 = \"Emil\", child2 = \"Tobias\", child3 = \"Linus\")"
   ]
  },
  {
   "cell_type": "markdown",
   "id": "b9fcd2c8",
   "metadata": {},
   "source": [
    "<h3>Arbitrary Keyword Arguments, **kwargs</h3>\n",
    "If you do not know how many keyword arguments that will be passed into your function, add two asterisk: ** before the parameter name in the function definition.\n",
    "\n",
    "This way the function will receive a dictionary of arguments, and can access the items accordingly:"
   ]
  },
  {
   "cell_type": "code",
   "execution_count": 18,
   "id": "33e25048",
   "metadata": {},
   "outputs": [
    {
     "name": "stdout",
     "output_type": "stream",
     "text": [
      "His last name is : K.C.\n",
      "His age is : 22\n"
     ]
    }
   ],
   "source": [
    "def my_func(**keys):\n",
    "    print(\"His last name is :\",keys['lname'])\n",
    "    print(\"His age is :\",keys['age'])\n",
    "\n",
    "my_func(fname=\"Roshan\",lname=\"K.C.\",age=\"22\")"
   ]
  },
  {
   "cell_type": "markdown",
   "id": "44ac3276",
   "metadata": {},
   "source": [
    "<h3>Default Parameter Value</h3>\n",
    "The following example shows how to use a default parameter value.\n",
    "\n",
    "If we call the function without argument, it uses the default value:"
   ]
  },
  {
   "cell_type": "code",
   "execution_count": 21,
   "id": "9cfb7fe4",
   "metadata": {},
   "outputs": [
    {
     "name": "stdout",
     "output_type": "stream",
     "text": [
      "I'm from:  Tadin\n",
      "I'm from:  Butwal\n",
      "I'm from:  HELLO WORLD\n"
     ]
    }
   ],
   "source": [
    "def my_home(address=\"Butwal\"):\n",
    "    print(\"I'm from: \",address)\n",
    "my_home(\"Tadin\")\n",
    "my_home()\n",
    "my_home(\"HELLO WORLD\")"
   ]
  },
  {
   "cell_type": "markdown",
   "id": "6c81be8f",
   "metadata": {},
   "source": [
    "<h3>Passing a List as an Argument</h3>\n",
    "\n",
    "You can send any data types of argument to a function (string, number, list, dictionary etc.), and it will be treated as the same data type inside the function.\n",
    "\n",
    "E.g. if you send a List as an argument, it will still be a List when it reaches the function:"
   ]
  },
  {
   "cell_type": "code",
   "execution_count": 26,
   "id": "dd9ddde3",
   "metadata": {},
   "outputs": [
    {
     "name": "stdout",
     "output_type": "stream",
     "text": [
      "Playing Coding TestingRoms "
     ]
    }
   ],
   "source": [
    "items=[\"Playing\",\"Coding\",\"TestingRoms\"]\n",
    "\n",
    "def my_bucketList(items):\n",
    "    #print(items)\n",
    "    for x in items:\n",
    "        print(x,end=\" \")\n",
    "    \n",
    "my_bucketList(items)"
   ]
  },
  {
   "cell_type": "markdown",
   "id": "2e71330c",
   "metadata": {},
   "source": [
    "<h3>Return Values</h3>\n",
    "\n",
    "To let a function return a value, use the return statement:"
   ]
  },
  {
   "cell_type": "code",
   "execution_count": 32,
   "id": "6c55379d",
   "metadata": {},
   "outputs": [
    {
     "name": "stdout",
     "output_type": "stream",
     "text": [
      "1st num: 4\n",
      "2nd num: 3\n",
      "7\n",
      "1\n",
      "12\n",
      "1.3333333333333333\n"
     ]
    }
   ],
   "source": [
    "def sum(x,y) : return x+y\n",
    "def diff(x,y) : return x-y\n",
    "def mul(x,y) : return x*y\n",
    "def div(x,y) : return x/y\n",
    "\n",
    "x = int(input(\"1st num: \"))\n",
    "y = int(input(\"2nd num: \"))\n",
    "\n",
    "print(sum(x,y))\n",
    "print(diff(x,y))\n",
    "print(mul(x,y))\n",
    "print(div(x,y))"
   ]
  },
  {
   "cell_type": "markdown",
   "id": "69636893",
   "metadata": {},
   "source": [
    "<h1>Recursion"
   ]
  },
  {
   "cell_type": "code",
   "execution_count": 4,
   "id": "a8f09a1b",
   "metadata": {
    "scrolled": true
   },
   "outputs": [
    {
     "name": "stdout",
     "output_type": "stream",
     "text": [
      "Enter a positive Integer: 5\n",
      "120\n"
     ]
    }
   ],
   "source": [
    "def recur(x):\n",
    "    if x==0 : \n",
    "        return 1   \n",
    "    else:\n",
    "        return x * (recur(x-1))\n",
    "    \n",
    "x=int(input(\"Enter a positive Integer: \"))       \n",
    "\n",
    "print(recur(x))"
   ]
  },
  {
   "cell_type": "code",
   "execution_count": null,
   "id": "59cc3853",
   "metadata": {},
   "outputs": [],
   "source": []
  }
 ],
 "metadata": {
  "kernelspec": {
   "display_name": "Python 3 (ipykernel)",
   "language": "python",
   "name": "python3"
  },
  "language_info": {
   "codemirror_mode": {
    "name": "ipython",
    "version": 3
   },
   "file_extension": ".py",
   "mimetype": "text/x-python",
   "name": "python",
   "nbconvert_exporter": "python",
   "pygments_lexer": "ipython3",
   "version": "3.10.9"
  }
 },
 "nbformat": 4,
 "nbformat_minor": 5
}
