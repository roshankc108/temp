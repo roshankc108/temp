{
 "cells": [
  {
   "cell_type": "markdown",
   "id": "7b82eb06",
   "metadata": {},
   "source": [
    "<h1> Notes :"
   ]
  },
  {
   "cell_type": "markdown",
   "id": "6c94bbb4",
   "metadata": {},
   "source": [
    "<h3>From a function's perspective:</h3>\n",
    "\n",
    "A parameter is the variable listed inside the parentheses in the function definition.\n",
    "\n",
    "An argument is the value that is sent to the function when it is called."
   ]
  },
  {
   "cell_type": "code",
   "execution_count": null,
   "id": "8c7bdb67",
   "metadata": {},
   "outputs": [],
   "source": []
  }
 ],
 "metadata": {
  "kernelspec": {
   "display_name": "Python 3 (ipykernel)",
   "language": "python",
   "name": "python3"
  },
  "language_info": {
   "codemirror_mode": {
    "name": "ipython",
    "version": 3
   },
   "file_extension": ".py",
   "mimetype": "text/x-python",
   "name": "python",
   "nbconvert_exporter": "python",
   "pygments_lexer": "ipython3",
   "version": "3.10.9"
  }
 },
 "nbformat": 4,
 "nbformat_minor": 5
}
