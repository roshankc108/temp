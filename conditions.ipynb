{
 "cells": [
  {
   "cell_type": "markdown",
   "id": "b25a50a1",
   "metadata": {},
   "source": [
    "<h1>If conditions in python :"
   ]
  },
  {
   "cell_type": "code",
   "execution_count": 1,
   "id": "6ee25552",
   "metadata": {},
   "outputs": [
    {
     "name": "stdout",
     "output_type": "stream",
     "text": [
      "222 is greater than 30\n"
     ]
    }
   ],
   "source": [
    "a = 222\n",
    "if a>30 :\n",
    "    print(a ,\"is greater than\",30)"
   ]
  },
  {
   "cell_type": "code",
   "execution_count": null,
   "id": "3faecd54",
   "metadata": {},
   "outputs": [
    {
     "name": "stdout",
     "output_type": "stream",
     "text": [
      "Enter a number10\n",
      "10 is a positive number.\n"
     ]
    }
   ],
   "source": [
    "a = int(input(\"Enter a number\"))\n",
    "if a >0 :\n",
    "    print (a,\"is a positive number.\")\n",
    "elif a == 0 :\n",
    "    print(a,\"It is a nuteral number.\")\n",
    "else:\n",
    "    print(a,\"is a negative number\")\n",
    "    "
   ]
  },
  {
   "cell_type": "markdown",
   "id": "58338393",
   "metadata": {},
   "source": [
    "<b>This is knowns as <u>ternary operators</u> OR <u>Conditional expressions</u>"
   ]
  },
  {
   "cell_type": "code",
   "execution_count": 19,
   "id": "acfc7ede",
   "metadata": {},
   "outputs": [
    {
     "name": "stdout",
     "output_type": "stream",
     "text": [
      "10\n"
     ]
    }
   ],
   "source": [
    "a=10\n",
    "print(a) if a!=1 else print(55)"
   ]
  },
  {
   "cell_type": "code",
   "execution_count": 23,
   "id": "df08a01b",
   "metadata": {},
   "outputs": [
    {
     "name": "stdout",
     "output_type": "stream",
     "text": [
      "Enter a no :-1\n",
      "number is negative\n"
     ]
    }
   ],
   "source": [
    "x = int(input(\"Enter a no :\"))\n",
    "print(\"no is +ve\") if x>0 else print(\"number is negative\") if x<0 else print(\"its neutral no.\")"
   ]
  },
  {
   "cell_type": "markdown",
   "id": "fec0167a",
   "metadata": {},
   "source": [
    "<h1>and or not</h1>"
   ]
  },
  {
   "cell_type": "code",
   "execution_count": 43,
   "id": "21cc402e",
   "metadata": {},
   "outputs": [
    {
     "name": "stdout",
     "output_type": "stream",
     "text": [
      "a = 1\n",
      "b = 2\n",
      "c = 3\n",
      "3 is greatest\n"
     ]
    }
   ],
   "source": [
    "a = int (input(\"a = \"))\n",
    "b = int (input(\"b = \"))\n",
    "c = int (input(\"c = \"))\n",
    "max = 0\n",
    "if a>b and a>c :\n",
    "    max = a\n",
    "elif b>a and b>c :\n",
    "    max = b\n",
    "else :\n",
    "    max = c\n",
    "\n",
    "print (max,\"is greatest\")\n"
   ]
  },
  {
   "cell_type": "code",
   "execution_count": 56,
   "id": "42e12185",
   "metadata": {},
   "outputs": [
    {
     "name": "stdout",
     "output_type": "stream",
     "text": [
      "Enter total bill amount : 45\n",
      "Money b has = 11\n",
      "Money c has= 23\n",
      "Sorry We cannot Pay the bill amount, We have only Rs. 34\n"
     ]
    }
   ],
   "source": [
    "a = int (input(\"Enter total bill amount : \"))\n",
    "b = int (input(\"Money b has = \"))\n",
    "c = int (input(\"Money c has= \"))\n",
    "if b>a or c>a :\n",
    "    print (\"Bill paid with extra tip of Rs.\",b+c-a)\n",
    "elif (b+c) >= a:\n",
    "    print(\"Bill paid! Amount.\",a)\n",
    "else :\n",
    "    print(\"Sorry We cannot Pay the bill amount, We have only Rs.\",b+c)\n",
    "\n"
   ]
  },
  {
   "cell_type": "code",
   "execution_count": 70,
   "id": "edb87f1e",
   "metadata": {},
   "outputs": [
    {
     "name": "stdout",
     "output_type": "stream",
     "text": [
      "11\n",
      "12\n",
      "a!=b\n"
     ]
    }
   ],
   "source": [
    "a=input()\n",
    "b=input()\n",
    "if not a==b :\n",
    "    print(\"a!=b\")\n",
    "else:\n",
    "    print(\"a==b\")"
   ]
  },
  {
   "cell_type": "markdown",
   "id": "df5a2d34",
   "metadata": {},
   "source": [
    "<h1>The <i>PASS</i> Statement"
   ]
  },
  {
   "cell_type": "code",
   "execution_count": 73,
   "id": "f3c4490f",
   "metadata": {
    "scrolled": true
   },
   "outputs": [
    {
     "name": "stdout",
     "output_type": "stream",
     "text": [
      "a = 2\n",
      "b = 2\n",
      "c = 3\n",
      "3 is greatest\n"
     ]
    }
   ],
   "source": [
    "a = int (input(\"a = \"))\n",
    "b = int (input(\"b = \"))\n",
    "c = int (input(\"c = \"))\n",
    "max == a\n",
    "if b>a and b>c :\n",
    "    max == b\n",
    "elif c>a and c>b :\n",
    "    max = c\n",
    "else :\n",
    "    pass\n",
    "\n",
    "print (max,\"is greatest\")"
   ]
  },
  {
   "attachments": {},
   "cell_type": "markdown",
   "id": "ed045dba",
   "metadata": {},
   "source": []
  }
 ],
 "metadata": {
  "kernelspec": {
   "display_name": "Python 3 (ipykernel)",
   "language": "python",
   "name": "python3"
  },
  "language_info": {
   "codemirror_mode": {
    "name": "ipython",
    "version": 3
   },
   "file_extension": ".py",
   "mimetype": "text/x-python",
   "name": "python",
   "nbconvert_exporter": "python",
   "pygments_lexer": "ipython3",
   "version": "3.11.3"
  }
 },
 "nbformat": 4,
 "nbformat_minor": 5
}
