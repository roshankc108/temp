{
 "cells": [
  {
   "cell_type": "markdown",
   "id": "40579eba",
   "metadata": {},
   "source": [
    "<h3> LIST v/s Sets v/s Dictionaries IN PYTHON"
   ]
  },
  {
   "cell_type": "code",
   "execution_count": 3,
   "id": "36ea9ee6",
   "metadata": {},
   "outputs": [
    {
     "name": "stdout",
     "output_type": "stream",
     "text": [
      "5 Type is:  <class 'int'>\n",
      "5.0 Type is:  <class 'float'>\n",
      "(5+5j) Type is:  <class 'complex'>\n"
     ]
    }
   ],
   "source": [
    "num1 = 5\n",
    "num2 = 5.0\n",
    "num3 = 5+5j\n",
    "\n",
    "print(num1,\"Type is: \",type(num1))\n",
    "print(num2,\"Type is: \",type(num2))\n",
    "print(num3,\"Type is: \",type(num3))"
   ]
  },
  {
   "cell_type": "markdown",
   "id": "96cbe0c3",
   "metadata": {},
   "source": [
    "<h1> LIST </h1>\n",
    "<b>List is an ordered collection of similar or different types of items separated by commas and enclosed within brackets [ ].</b>\n",
    "\n",
    "Here, we have created a list named languages with 3 string values inside it.\n",
    "\n",
    "languages = [\"Swift\", \"Java\", \"Python\"]\n",
    "\n",
    "\n",
    "<b>Access List Items : we use the index number (0, 1, 2 ...)"
   ]
  },
  {
   "cell_type": "code",
   "execution_count": 5,
   "id": "fa75b950",
   "metadata": {},
   "outputs": [
    {
     "name": "stdout",
     "output_type": "stream",
     "text": [
      "Nepali\n"
     ]
    }
   ],
   "source": [
    "languages = [\"Nepali\",\"Hindi\",\"Bhojpuri\",\"English\",\"Tharu\"]\n",
    "\n",
    "print(languages[0])"
   ]
  },
  {
   "cell_type": "code",
   "execution_count": 7,
   "id": "65b72847",
   "metadata": {},
   "outputs": [
    {
     "name": "stdout",
     "output_type": "stream",
     "text": [
      "Teen\n"
     ]
    }
   ],
   "source": [
    "mylist = [1,\"Love\",\"Teen\"]\n",
    "\n",
    "print(mylist[2])"
   ]
  },
  {
   "attachments": {
    "image.png": {
     "image/png": "[encoded data removed]"
    }
   },
   "cell_type": "markdown",
   "id": "b63719bb",
   "metadata": {},
   "source": [
    "lists support <b>negative indexing</b> in Pyhton\n",
    "![image.png](attachment:image.png)"
   ]
  },
  {
   "cell_type": "code",
   "execution_count": 12,
   "id": "fe1bfde7",
   "metadata": {},
   "outputs": [
    {
     "name": "stdout",
     "output_type": "stream",
     "text": [
      "English\n",
      "Bhojpuri\n"
     ]
    }
   ],
   "source": [
    "languages = [\"Nepali\",\"Hindi\",\"Bhojpuri\",\"English\",\"Tharu\"]\n",
    "\n",
    "print(languages[3])\n",
    "# yestari 0 1 2 3 4 ,etc\n",
    "\n",
    "print(languages[-3])\n",
    "# yestari right bata -1 start hunxa i.e Tharu is -1 , English is -2\n",
    "#hence becomes : -5 -4 -3 -2 -1"
   ]
  },
  {
   "cell_type": "markdown",
   "id": "83c588e5",
   "metadata": {},
   "source": [
    "<b>Slicing of a Python List</b>\n",
    "\n",
    "it is possible to access a section of items from the list using the slicing operator :, not just a single item. For example,"
   ]
  },
  {
   "cell_type": "code",
   "execution_count": 14,
   "id": "ee99a066",
   "metadata": {},
   "outputs": [
    {
     "name": "stdout",
     "output_type": "stream",
     "text": [
      "['s', 'h', 'a']\n",
      "['n', 'k', 'c']\n",
      "['r', 'o', 's', 'h', 'a', 'n', 'k', 'c']\n"
     ]
    }
   ],
   "source": [
    "# List slicing in Python\n",
    "\n",
    "my_list = ['r','o','s','h','a','n','k','c']\n",
    "\n",
    "# items from index 2 to index 4\n",
    "print(my_list[2:5])\n",
    "\n",
    "# items from index 5 to end\n",
    "print(my_list[5:])\n",
    "\n",
    "# items beginning to end\n",
    "print(my_list[:])"
   ]
  },
  {
   "cell_type": "code",
   "execution_count": null,
   "id": "216900c2",
   "metadata": {},
   "outputs": [],
   "source": []
  }
 ],
 "metadata": {
  "kernelspec": {
   "display_name": "Python 3 (ipykernel)",
   "language": "python",
   "name": "python3"
  },
  "language_info": {
   "codemirror_mode": {
    "name": "ipython",
    "version": 3
   },
   "file_extension": ".py",
   "mimetype": "text/x-python",
   "name": "python",
   "nbconvert_exporter": "python",
   "pygments_lexer": "ipython3",
   "version": "3.10.9"
  }
 },
 "nbformat": 4,
 "nbformat_minor": 5
}
