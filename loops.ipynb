{
 "cells": [
  {
   "cell_type": "markdown",
   "id": "80562171",
   "metadata": {},
   "source": [
    "<h1>Day 2 in python syntax"
   ]
  },
  {
   "cell_type": "markdown",
   "id": "2ca1a55a",
   "metadata": {},
   "source": [
    "<h1> Loopings \n",
    "    <br>1. While Loop\n",
    "    <br>2. For Loop"
   ]
  },
  {
   "cell_type": "code",
   "execution_count": 19,
   "id": "d4ce5aa2",
   "metadata": {},
   "outputs": [
    {
     "name": "stdout",
     "output_type": "stream",
     "text": [
      "Enter value of loop?5\n",
      "5 4 3 2 1 \n",
      "Iteration is over.\n"
     ]
    }
   ],
   "source": [
    "x = int(input(\"Enter value of loop?\"))\n",
    "while x>0:\n",
    "    print(x,end=\" \")\n",
    "    x-=1\n",
    "else:\n",
    "    print(\"\\nIteration is over.\")\n",
    "    "
   ]
  },
  {
   "cell_type": "markdown",
   "id": "5db3adf8",
   "metadata": {},
   "source": [
    "<h2>To find prime number upto nth number:"
   ]
  },
  {
   "cell_type": "code",
   "execution_count": 44,
   "id": "9285e346",
   "metadata": {},
   "outputs": [
    {
     "name": "stdout",
     "output_type": "stream",
     "text": [
      "Enter a number :99\n",
      "1 2 3 5 7 11 13 17 19 23 29 31 37 41 43 47 53 59 61 67 71 73 79 83 89 97 "
     ]
    }
   ],
   "source": [
    "num = int (input(\"Enter a number :\"))\n",
    "step=1\n",
    "while step<=num:\n",
    "    count=0\n",
    "    i=1\n",
    "    while (i<=step):\n",
    "        if step % i == 0: \n",
    "            count+=1 \n",
    "        i+=1\n",
    "    if count<=2: print(step,end=\" \") \n",
    "    step+=1"
   ]
  },
  {
   "cell_type": "markdown",
   "id": "c77b870b",
   "metadata": {},
   "source": [
    "For Loop :"
   ]
  },
  {
   "cell_type": "code",
   "execution_count": 53,
   "id": "0405d454",
   "metadata": {},
   "outputs": [
    {
     "name": "stdout",
     "output_type": "stream",
     "text": [
      "apple\n",
      "banana\n",
      "cherry\n"
     ]
    }
   ],
   "source": [
    "fruits = [\"apple\", \"banana\", \"cherry\"]\n",
    "for x in fruits:\n",
    "    print(x)"
   ]
  },
  {
   "cell_type": "code",
   "execution_count": 65,
   "id": "16ec3093",
   "metadata": {},
   "outputs": [
    {
     "name": "stdout",
     "output_type": "stream",
     "text": [
      "Num to skip: 1\n",
      "Start point: 1\n",
      "End point: 3\n",
      "2 3 "
     ]
    }
   ],
   "source": [
    "x = int(input(\"Num to skip: \"))\n",
    "a = int(input(\"Start point: \"))\n",
    "b = int(input(\"End point: \"))\n",
    "for i in range(a,b+1):\n",
    "    if x==i:continue\n",
    "    print(i,end=\" \")"
   ]
  },
  {
   "cell_type": "code",
   "execution_count": 75,
   "id": "61007739",
   "metadata": {
    "scrolled": true
   },
   "outputs": [
    {
     "name": "stdout",
     "output_type": "stream",
     "text": [
      "red apple || red banana || red cherry || \n",
      "\n",
      "big apple || big banana || big cherry || \n",
      "\n",
      "tasty apple || tasty banana || tasty cherry || \n",
      "\n"
     ]
    }
   ],
   "source": [
    "colors = [\"red\", \"big\", \"tasty\"]\n",
    "fruits = [\"apple\", \"banana\", \"cherry\"]\n",
    "\n",
    "for x in colors :\n",
    "    for y in fruits:\n",
    "        print(x,y,end=\" || \")\n",
    "    print(\"\\n\")"
   ]
  },
  {
   "cell_type": "markdown",
   "id": "48b1f7a7",
   "metadata": {},
   "source": [
    "<h2>Fibonacci Series:"
   ]
  },
  {
   "cell_type": "code",
   "execution_count": 79,
   "id": "17d9288a",
   "metadata": {},
   "outputs": [
    {
     "name": "stdout",
     "output_type": "stream",
     "text": [
      "Enter a number : 10\n",
      "0 1 1 2 3 5 8 13 21 34 "
     ]
    }
   ],
   "source": [
    "num1 = 0\n",
    "num2 = 1\n",
    "\n",
    "x = int(input(\"Enter a number : \"))\n",
    "\n",
    "for i in range(1,x+1):\n",
    "    \n",
    "    #prints next number\n",
    "    print(num1,end=\" \")\n",
    "    \n",
    "    #sum of the last two num\n",
    "    nextnum=num1+num2\n",
    "    \n",
    "    #updating values of nums\n",
    "    num1=num2\n",
    "    num2=nextnum\n",
    "    "
   ]
  },
  {
   "cell_type": "markdown",
   "id": "9358fe6d",
   "metadata": {},
   "source": [
    "<h2> Factorial number"
   ]
  },
  {
   "cell_type": "code",
   "execution_count": 102,
   "id": "bea0fe3b",
   "metadata": {},
   "outputs": [
    {
     "name": "stdout",
     "output_type": "stream",
     "text": [
      "Enter a num: 9\n",
      "362880\n"
     ]
    }
   ],
   "source": [
    "n = int(input(\"Enter a num: \"))\n",
    "fact=1\n",
    "for i in range(1,n+1):\n",
    "    fact = fact*i\n",
    "print(fact)"
   ]
  },
  {
   "cell_type": "code",
   "execution_count": null,
   "id": "3e9fd53b",
   "metadata": {},
   "outputs": [],
   "source": []
  }
 ],
 "metadata": {
  "kernelspec": {
   "display_name": "Python 3 (ipykernel)",
   "language": "python",
   "name": "python3"
  },
  "language_info": {
   "codemirror_mode": {
    "name": "ipython",
    "version": 3
   },
   "file_extension": ".py",
   "mimetype": "text/x-python",
   "name": "python",
   "nbconvert_exporter": "python",
   "pygments_lexer": "ipython3",
   "version": "3.10.9"
  }
 },
 "nbformat": 4,
 "nbformat_minor": 5
}
